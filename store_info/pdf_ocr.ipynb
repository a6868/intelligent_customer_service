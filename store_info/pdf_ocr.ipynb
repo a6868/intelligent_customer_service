{
  "cells": [
    {
      "cell_type": "code",
      "execution_count": 31,
      "metadata": {},
      "outputs": [],
      "source": [
        "import os",
        "work_dir = r\"D:\\Desktop\\intellikf\\store_info\"",
        "os.makedirs(f'{work_dir}\\pdf2img', exist_ok=True)",
        "os.makedirs(f'{work_dir}\\pdf2txt', exist_ok=True)"
      ]
    },
    {
      "cell_type": "code",
      "execution_count": null,
      "metadata": {},
      "outputs": [],
      "source": [
        "import fitz  # PyMuPDF\u5e93",
        "from PIL import Image",
        "import paddleocr",
        "import cv2  # OpenCV\u5e93\u7528\u4e8e\u8bfb\u53d6\u56fe\u50cf\u6587\u4ef6",
        "# \u521d\u59cb\u5316PaddleOCR\u6a21\u578b",
        "ocr = paddleocr.PaddleOCR(use_gpu=False, lang=\"ch\")",
        "# \u6253\u5f00PDF\u6587\u4ef6",
        "pdf_nm = '\u8bb0\u4e8b\u672c_\u5929\u732b'",
        "pdf_path = fr'{work_dir}\\{pdf_nm}.pdf'",
        "pdf_doc = fitz.open(pdf_path)",
        "# \u904d\u5386PDF\u4e2d\u7684\u6bcf\u4e00\u9875",
        "for page_index in range(len(pdf_doc)):",
        "    page = pdf_doc[page_index]",
        "    # \u5c06PDF\u9875\u9762\u8f6c\u6362\u4e3a\u56fe\u50cf",
        "    pix = page.get_pixmap()  # \u4f7f\u7528get_pixmap()\u66ff\u4ee3get_image()",
        "    img_path = fr'{work_dir}\\pdf2img\\{pdf_nm}_{page_index}.jpg'  # \u4fdd\u5b58\u56fe\u50cf\u7684\u8def\u5f84\u548c\u6587\u4ef6\u540d",
        "    pix.save(img_path)",
        "    # \u8bfb\u53d6\u56fe\u7247\u5e76\u8bc6\u522b\u6587\u5b57",
        "    results = ocr.ocr(img_path, cls=True)",
        "    if results[0]: ",
        "        text = '\\n'.join([result[1][0].lower() for result in results[0]])",
        "    else:",
        "        text = ''",
        "    output_file = fr'{work_dir}\\pdf2txt\\{pdf_nm}.txt'",
        "    # \u5199\u5165\u8bc6\u522b\u7ed3\u679c\u5230\u6587\u672c\u6587\u4ef6",
        "    with open(output_file, 'a+', encoding='utf-8') as f:",
        "        f.write(text + '\\n')"
      ]
    },
    {
      "cell_type": "code",
      "execution_count": null,
      "metadata": {},
      "outputs": [],
      "source": [
        "lines = '''\u54c1\u724c",
        "\u536b\u7f8e",
        "\u578b\u53f7",
        "2233",
        "\u6d41\u884c\u5143\u7d20",
        "\u538b\u5370",
        "\u98ce\u683c",
        "\u5546\u52a1\u7b80\u7ea6",
        "\u4e0a\u5e02\u65f6\u95f4",
        "2019-09-17",
        "\u5185\u9875\u6750\u8d28",
        "\u9053\u6797\u7eb8",
        "\u751f\u4ea7\u4f01\u4e1a",
        "\u6e29\u5dde\u4e1a\u6df3\u6587\u5177\u6709\u9650\u516c\u53f8",
        "\u88c5\u8ba2\u65b9\u5f0f",
        "\u7ebf\u88c5\u5f0f\u88c5\u8ba2",
        "\u5c01\u9762\u6750\u8d28",
        "pu",
        "\u9002\u7528\u573a\u666f",
        "\u529e\u516c\u5b9a\u5236",
        "\u8bb0\u4e8b\u672c\u5206\u7c7b",
        "\u901a\u7528\u7b14\u8bb0\u672c",
        "\u5305\u88c5\u6570\u91cf",
        "\u5355\u672c\u88c5a5",
        "\u9002\u7528\u4eba\u7fa4",
        "\u5546\u52a1\u529e\u516c\u4eba\u58eb\u767d\u9886",
        "\u5c01\u9762\u786c\u5ea6",
        "\u8f6f\u9762\u6284",
        "\u5305\u88c5\u79cd\u7c7b",
        "\u57fa\u7840\u5305\u88c5",
        "\u9875\u6570",
        "100\u9875\u4ee5\u4e0a",
        "\u989c\u8272\u5206\u7c7b",
        "\u5b9a\u5236\u53ef\u5370logo A5\u5c0a\u8d35\u84dd/\u7ecf\u5178\u6b3e/200\u9875 A5\u84dd\u8272/\u7ecf\u5178\u6b3e'''",
        "lines = lines.split('\\n')",
        "formatted_lines = [line+ '\uff1a' if i % 2 == 0 else line for i, line in enumerate(lines)]",
        "# \u5c06\u5076\u6570\u884c\u548c\u5947\u6570\u884c\u5206\u522b\u62fc\u63a5\u8d77\u6765",
        "concated_text = []",
        "for i in range(0, len(formatted_lines), 2):",
        "    concated_text.append(formatted_lines[i] + formatted_lines[i+1])",
        "formatted_text = '\\n'.join(concated_text)",
        "print(formatted_text)"
      ]
    }
  ],
  "metadata": {
    "kernelspec": {
      "display_name": "Pytorch_cpu",
      "language": "python",
      "name": "python3"
    },
    "language_info": {
      "codemirror_mode": {
        "name": "ipython",
        "version": 3
      },
      "file_extension": ".py",
      "mimetype": "text/x-python",
      "name": "python",
      "nbconvert_exporter": "python",
      "pygments_lexer": "ipython3",
      "version": "3.12.3"
    }
  },
  "nbformat": 4,
  "nbformat_minor": 2
}