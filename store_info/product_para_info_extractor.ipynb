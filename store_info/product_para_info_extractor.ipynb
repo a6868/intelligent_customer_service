{
  "cells": [
    {
      "cell_type": "code",
      "execution_count": 17,
      "metadata": {},
      "outputs": [],
      "source": [
        "from gpt_api_call import gpt_api_call",
        "user_text = \\",
        "'''Please extract the information from the picture table and retrun the information in one column as follows:",
        "\u53c2\u6570\u540d\u79f0\uff1a\u53c2\u6570\u503c",
        "\u2026\u2026",
        "\u53c2\u6570\u540d\u79f0\uff1a\u53c2\u6570\u503c",
        "\u53c2\u6570\u540d\u79f0\uff1a\u53c2\u6570\u503c",
        "'''",
        "model_name = \"gpt-4o-2024-08-06\"",
        "image_path = r\"D:\\Desktop\\\u6536\u7eb3\u76d2\u53c2\u6570.png\"",
        "completion = gpt_api_call(model_name, user_text, image_path)"
      ]
    },
    {
      "cell_type": "code",
      "execution_count": 24,
      "metadata": {},
      "outputs": [],
      "source": [
        "reply = completion.choices[0].message.content",
        "file_name = \\",
        "r\"D:\\Desktop\\intelligent_customer_service\\extract_and_store_info\\product_para_info_extractor.txt\"",
        "# \u5bf9\u6bcf\u884c\u5e94\u7528 strip() \u65b9\u6cd5",
        "stripped_reply = '\\n'.join(line.strip() for line in reply.splitlines())",
        "# \u5c06\u5904\u7406\u540e\u7684\u5185\u5bb9\u5199\u56de\u6587\u4ef6",
        "with open(file_name, \"w\", encoding=\"utf-8\") as file:",
        "    file.write(stripped_reply)"
      ]
    }
  ],
  "metadata": {
    "kernelspec": {
      "display_name": "Pytorch_cpu",
      "language": "python",
      "name": "python3"
    },
    "language_info": {
      "codemirror_mode": {
        "name": "ipython",
        "version": 3
      },
      "file_extension": ".py",
      "mimetype": "text/x-python",
      "name": "python",
      "nbconvert_exporter": "python",
      "pygments_lexer": "ipython3",
      "version": "3.12.3"
    }
  },
  "nbformat": 4,
  "nbformat_minor": 2
}