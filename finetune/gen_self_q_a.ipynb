{
  "cells": [
    {
      "cell_type": "code",
      "execution_count": 2,
      "metadata": {},
      "outputs": [],
      "source": [
        "from pydantic import BaseModel",
        "from openai import OpenAI",
        "import os",
        "import markdown",
        "import base64",
        "# \u8bfb\u53d6api key\u7684txt\u6587\u4ef6",
        "with open(r\"D:\\Desktop\\\u5176\u4ed6\u4e8b\u52a1\\gpt_api_key.txt\", 'r') as f:",
        "    API_KEY = f.read() ",
        "client = OpenAI(api_key=API_KEY)"
      ]
    },
    {
      "cell_type": "code",
      "execution_count": 3,
      "metadata": {},
      "outputs": [],
      "source": [
        "class SelfRecognitionQAs(BaseModel):",
        "    input: str",
        "    output: str",
        "class Conversation(BaseModel):",
        "    conversation: list[SelfRecognitionQAs]",
        "example = {\"conversation\": [{\"input\": \"\u4f60\u662f\u8c01\", \"output\": \"\u4eb2\u4eb2\uff0c\u6211\u662f\u667a\u80fd\u5ba2\u670d\u5c0f\u82e5\uff0c\u6709\u4ec0\u4e48\u53ef\u4ee5\u5e2e\u5230\u60a8\u7684\u5417\uff1f\"}]}"
      ]
    },
    {
      "cell_type": "code",
      "execution_count": 4,
      "metadata": {},
      "outputs": [],
      "source": [
        "name = \"\u5c0f\u82e5\"",
        "completion = client.beta.chat.completions.parse(",
        "    model=\"gpt-4o-2024-08-06\",",
        "    messages=[",
        "        {\"role\": \"system\", \"content\": f\"\u4f60\u662f\u4e00\u4f4d\u6e29\u67d4\u3001\u53ef\u7231\u3001\u9ad8\u60c5\u5546\u7684\u5ba2\u670d\uff0c\u540d\u53eb{name}\"},",
        "        {\"role\": \"user\", \"content\": \\",
        "        f'''\u60f3\u50cf\u4e0d\u540c\u7528\u6237\u752810\u79cd\u4e0d\u540c\u7684\u8bdd\u95ee\u4f60\u662f\u8c01\uff0c\u4f5c\u4e3a\u4e00\u4f4d\u6e29\u67d4\u3001\u53ef\u7231\u3001\u9ad8\u60c5\u5546\u7684\u5ba2\u670d\uff0c\u4ee5{example}\u7684\u683c\u5f0f\u7ed9\u51fa\u7528\u6237\u7684\u4e0d\u540c\u95ee\u9898\u548c\u4f60\u7684\u56de\u7b54'''},",
        "    ],",
        "    response_format=Conversation,",
        ")"
      ]
    },
    {
      "cell_type": "code",
      "execution_count": 18,
      "metadata": {},
      "outputs": [],
      "source": [
        "self_recognition_qas = completion.choices[0].message.parsed"
      ]
    },
    {
      "cell_type": "code",
      "execution_count": 19,
      "metadata": {},
      "outputs": [
        {
          "data": {
            "text/plain": [
              "[SelfRecognitionQAs(input='\u4f60\u662f\u8c01', output='\u4eb2\u4eb2\uff0c\u6211\u662f\u667a\u80fd\u5ba2\u670d\u5c0f\u82e5\uff0c\u6709\u4ec0\u4e48\u53ef\u4ee5\u5e2e\u5230\u60a8\u7684\u5417\uff1f'),\n",
              " SelfRecognitionQAs(input='\u8bf7\u95ee\u4f60\u662f\u4ec0\u4e48\u4eba\uff1f', output='\u60a8\u597d\uff0c\u6211\u662f\u667a\u80fd\u5ba2\u670d\u5c0f\u82e5\uff0c\u968f\u65f6\u4e3a\u60a8\u63d0\u4f9b\u5e2e\u52a9\u54e6~'),\n",
              " SelfRecognitionQAs(input='\u4f60\u662f\u4ec0\u4e48\uff1f', output='\u563f\u563f\uff0c\u6211\u662f\u60a8\u8d34\u5fc3\u7684\u5c0f\u52a9\u624b\u5c0f\u82e5\uff0c\u600e\u4e48\u5566\uff1f\u9700\u8981\u4ec0\u4e48\u5e2e\u52a9\u5417\uff1f')]"
            ]
          },
          "execution_count": 19,
          "metadata": {},
          "output_type": "execute_result"
        }
      ],
      "source": [
        "self_recognition_qas.conversation[:3]"
      ]
    },
    {
      "cell_type": "code",
      "execution_count": 20,
      "metadata": {},
      "outputs": [],
      "source": [
        "self_pairs = [{\"conversation\": [{\"input\": qa.input, \"output\": qa.output}]} ",
        "              for qa in self_recognition_qas.conversation]"
      ]
    },
    {
      "cell_type": "code",
      "execution_count": 22,
      "metadata": {},
      "outputs": [],
      "source": [
        "n = 80",
        "self_pairs_times = self_pairs * n"
      ]
    },
    {
      "cell_type": "code",
      "execution_count": 23,
      "metadata": {},
      "outputs": [
        {
          "name": "stdout",
          "output_type": "stream",
          "text": [
            "Data has been written to D:\\Desktop_1\\intelligent_customer_service\\self_recognition_qas.json\n"
          ]
        }
      ],
      "source": [
        "# \u5c06list self_pairs_times\u5199\u5165\u6587\u4ef6",
        "import json",
        "# \u5c06list self_pairs_times\u5199\u5165\u6587\u4ef6",
        "output_file = r'D:\\Desktop\\intelligent_customer_service\\self_recognition_qas.json'",
        "with open(output_file, 'w', encoding='utf-8') as f:",
        "    json.dump(self_pairs_times, f, ensure_ascii=False, indent=2)",
        "print(f\"Data has been written to {output_file}\")"
      ]
    }
  ],
  "metadata": {
    "kernelspec": {
      "display_name": "Pytorch_cpu",
      "language": "python",
      "name": "python3"
    },
    "language_info": {
      "codemirror_mode": {
        "name": "ipython",
        "version": 3
      },
      "file_extension": ".py",
      "mimetype": "text/x-python",
      "name": "python",
      "nbconvert_exporter": "python",
      "pygments_lexer": "ipython3",
      "version": "3.12.3"
    }
  },
  "nbformat": 4,
  "nbformat_minor": 2
}