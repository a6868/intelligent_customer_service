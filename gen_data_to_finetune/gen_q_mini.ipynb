{
  "cells": [
    {
      "cell_type": "code",
      "execution_count": 43,
      "metadata": {},
      "outputs": [],
      "source": [
        "import os\n",
        "from openai import OpenAI\n",
        "import markdown\n",
        "import base64"
      ]
    },
    {
      "cell_type": "code",
      "execution_count": 45,
      "metadata": {},
      "outputs": [],
      "source": [
        "# \u8bfb\u53d6api key\u7684txt\u6587\u4ef6\n",
        "with open(r\"D:\\Desktop\\\u5176\u4ed6\u4e8b\u52a1\\gpt_api_key.txt\", 'r') as f:\n",
        "    API_KEY = f.read() "
      ]
    },
    {
      "cell_type": "code",
      "execution_count": 46,
      "metadata": {},
      "outputs": [],
      "source": [
        "model_name = \"gpt-4o-mini-2024-07-18\"\n",
        "# model_name = \"gpt-4o-2024-08-06\"\n",
        "if model_name == \"gpt-4o-mini-2024-07-18\":\n",
        "    model_abbr = \"mini\"\n",
        "else:\n",
        "    model_abbr = \"4o\"\n",
        "client = OpenAI(\n",
        "    api_key=API_KEY\n",
        ")"
      ]
    },
    {
      "cell_type": "code",
      "execution_count": 47,
      "metadata": {},
      "outputs": [
        {
          "name": "stdout",
          "output_type": "stream",
          "text": [
            "jsonl\u6587\u4ef6\u7684\u7b2c\u4e00\u4e2a\u5143\u7d20\uff1a {'\u4ea7\u54c1\u4fe1\u606f\u67e5\u8be2_\u89c4\u683c\u5927\u5c0f': '\u8fd9\u4e2a\u7535\u89c6\u673a\u662f\u591a\u5927\u7684\u5462'}\n"
          ]
        }
      ],
      "source": [
        "# \u8bfb\u53d6jsonl\u6587\u4ef6\n",
        "import json\n",
        "FILE_PATH = r\"D:\\Desktop\\intelligent_customer_service\\q_man.jsonl\"\n",
        "# \u8bfb\u53d6jsonl\u6587\u4ef6\u7684\u7b2c\u4e00\u4e2a\u5143\u7d20\n",
        "with open(FILE_PATH, 'r', encoding='utf-8') as file:\n",
        "    first_line = file.readline().strip()\n",
        "    first_element = json.loads(first_line)\n",
        "print(\"jsonl\u6587\u4ef6\u7684\u7b2c\u4e00\u4e2a\u5143\u7d20\uff1a\", first_element)"
      ]
    },
    {
      "cell_type": "code",
      "execution_count": 48,
      "metadata": {},
      "outputs": [
        {
          "name": "stdout",
          "output_type": "stream",
          "text": [
            "\u8f6c\u6362\u540e\u7684\u6570\u636e(\u524d3\u4e2a\u5143\u7d20):\n",
            "{'\u4ea7\u54c1\u4fe1\u606f\u67e5\u8be2_\u89c4\u683c\u5927\u5c0f': ['\u8fd9\u4e2a\u7535\u89c6\u673a\u662f\u591a\u5927\u7684\u5462']}\n",
            "{'\u4ea7\u54c1\u4fe1\u606f\u67e5\u8be2_\u4ef7\u683c': ['\u8fd9\u4e2a\u4ef7\u683c\u600e\u4e48\u6bd4\u6211\u4e0a\u6b21\u4e70\u7684\u4fbf\u5b9c\u90a3\u4e48\u591a\uff1f']}\n",
            "{'\u4ea7\u54c1\u4fe1\u606f\u67e5\u8be2_\u5e93\u5b58': ['\u7d2b\u8272\u6b3e41\u7801\u7684\uff0c\u8fd8\u6709\u8d27\u5417']}\n"
          ]
        }
      ],
      "source": [
        "# \u5c06jsonl\u6587\u4ef6\u6bcf\u4e00\u884c\u5143\u7d20\u7684\u503c\u8f6c\u6362\u4e3a\u5217\u8868\uff0ce.g.\n",
        "# \u8f93\u5165\uff1a{\"q_aspect\": \"\u4ef7\u683c\", \"q_content\": \"\u4ef7\u683c\u8d35\u5417\uff1f\"}\n",
        "# \u8f93\u51fa\uff1a{\"q_aspect\": \"\u4ef7\u683c\", \"q_content\": [\"\u4ef7\u683c\u8d35\u5417\uff1f\"]}\n",
        "import json\n",
        "# \u8bfb\u53d6jsonl\u6587\u4ef6\u5e76\u8f6c\u6362\u5185\u5bb9\n",
        "def convert_jsonl_values_to_list(file_path):\n",
        "    converted_lines = []\n",
        "    with open(file_path, 'r', encoding='utf-8') as file:\n",
        "        for line in file:\n",
        "            item = json.loads(line.strip())\n",
        "            # \u5c06\u6bcf\u4e2a\u5b57\u5178\u7684\u503c\u8f6c\u6362\u4e3a\u5217\u8868\n",
        "            for key, value in item.items():\n",
        "                item[key] = [value]\n",
        "            converted_lines.append(item)\n",
        "    return converted_lines\n",
        "# \u4f7f\u7528\u51fd\u6570\n",
        "converted_lines = convert_jsonl_values_to_list(FILE_PATH)\n",
        "# \u6253\u5370\u8f6c\u6362\u540e\u7684\u524d\u51e0\u4e2a\u5143\u7d20\u4ee5\u9a8c\u8bc1\n",
        "print(\"\u8f6c\u6362\u540e\u7684\u6570\u636e(\u524d3\u4e2a\u5143\u7d20):\")\n",
        "for item in converted_lines[:3]:\n",
        "    print(item)\n",
        "# \u5982\u679c\u9700\u8981,\u53ef\u4ee5\u5c06\u8f6c\u6362\u540e\u7684\u6570\u636e\u5199\u56de\u6587\u4ef6\n",
        "# with open('converted_file.jsonl', 'w', encoding='utf-8') as outfile:\n",
        "#     for item in converted_lines:\n",
        "#         json.dump(item, outfile, ensure_ascii=False)\n",
        "#         outfile.write('\\n')"
      ]
    },
    {
      "cell_type": "code",
      "execution_count": 49,
      "metadata": {},
      "outputs": [],
      "source": [
        "total_num_gen = 1500\n",
        "count = 0\n",
        "begin, end = 2, 12\n",
        "line_count = len(converted_lines)\n",
        "per_aspect_num_gen = total_num_gen/line_count\n",
        "for line in converted_lines[begin:end]:\n",
        "    q_aspect = next(iter(line.keys())) #\u53ea\u6709\u4e00\u4e2akey\n",
        "    exp_q = list(line.values())\n",
        "    broad, specific = q_aspect.split('_')\n",
        "    # system_prompt = f\"\"\n",
        "    user_prompt = f'''\u8bf7\u6a21\u62df\u7535\u5546\u8d2d\u7269\u7684\u4e0d\u540c\u987e\u5ba2\uff0c\u63d0\u51fa\u5173\u4e8e{specific}\u7684{broad}\u65b9\u9762\u7684{per_aspect_num_gen}\u4e2a\u95ee\u9898\u3002\n",
        "    \u4f8b\u5982\uff1a{exp_q[0]}\n",
        "    '''\n",
        "    completion = client.chat.completions.create(\n",
        "        model = model_name,\n",
        "        messages=[\n",
        "            # {\"role\": \"system\", \"content\": system_prompt},\n",
        "            {\"role\": \"user\", \"content\": user_prompt}\n",
        "        ],\n",
        "        frequency_penalty=0,\n",
        "        presence_penalty= -0.5,\n",
        "        max_tokens=4096,\n",
        "        temperature=0,\n",
        "        top_p=0.2,\n",
        "        n=1,\n",
        "        seed=42\n",
        "        )\n",
        "    reply = completion.choices[0].message.content\n",
        "    # \u5c06reply append\u5230list\u53d8\u91cfline[q_aspect]\u4e2d\n",
        "    line[q_aspect].append(reply)"
      ]
    },
    {
      "cell_type": "code",
      "execution_count": 51,
      "metadata": {},
      "outputs": [],
      "source": [
        "OUTPUT_FILE_PATH = \\\n",
        "    fr\"D:\\Desktop\\intelligent_customer_service\\\\{model_abbr}_reply_{begin}_{end}.jsonl\" \n",
        "# \u5c06list\u53d8\u91cfreply\u8f6c\u6362\u4e3ajsonl\u6587\u4ef6\n",
        "with open(OUTPUT_FILE_PATH, 'w', encoding='utf-8') as outfile:\n",
        "    for item in converted_lines[begin:end]:\n",
        "        json.dump(item, outfile, ensure_ascii=False)\n",
        "        outfile.write('\\n')"
      ]
    }
  ],
  "metadata": {
    "kernelspec": {
      "display_name": "Pytorch_cpu",
      "language": "python",
      "name": "python3"
    },
    "language_info": {
      "codemirror_mode": {
        "name": "ipython",
        "version": 3
      },
      "file_extension": ".py",
      "mimetype": "text/x-python",
      "name": "python",
      "nbconvert_exporter": "python",
      "pygments_lexer": "ipython3",
      "version": "3.12.3"
    }
  },
  "nbformat": 4,
  "nbformat_minor": 2
}