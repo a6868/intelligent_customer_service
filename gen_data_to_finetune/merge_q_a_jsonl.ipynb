{
  "cells": [
    {
      "cell_type": "code",
      "execution_count": 5,
      "metadata": {},
      "outputs": [
        {
          "name": "stdout",
          "output_type": "stream",
          "text": [
            "\u5df2\u5408\u5e76 2 \u4e2a\u6587\u4ef6\uff0c\u603b\u5171 12 \u6761\u6570\u636e\u3002\n"
          ]
        }
      ],
      "source": [
        "# merge jsonl\u6587\u4ef6",
        "import json",
        "# \u83b7\u53d6\u6240\u6709\u7684jsonl\u6587\u4ef6",
        "jsonl_files = [r\"D:\\Desktop\\intelligent_customer_service\\mini_q_a_0_11.jsonl\",",
        "               r\"D:\\Desktop\\intelligent_customer_service\\mini_q_a_11_12.jsonl\"]",
        "# \u521b\u5efa\u4e00\u4e2a\u5217\u8868\u6765\u5b58\u50a8\u6240\u6709\u7684\u6570\u636e",
        "all_data = []",
        "# \u904d\u5386\u6240\u6709\u7684jsonl\u6587\u4ef6",
        "for file in jsonl_files:",
        "    with open(file, 'r', encoding='utf-8') as f:",
        "        # \u8bfb\u53d6\u6bcf\u4e00\u884c\u5e76\u89e3\u6790JSON",
        "        for line in f:",
        "            data = json.loads(line.strip())",
        "            all_data.append(data)",
        "# \u5c06\u5408\u5e76\u540e\u7684\u6570\u636e\u5199\u5165\u65b0\u7684jsonl\u6587\u4ef6",
        "with open(r'D:\\Desktop\\intelligent_customer_service\\q_a_merged_file.jsonl', ",
        "          'w', encoding='utf-8') as f:",
        "    for item in all_data:",
        "        json.dump(item, f, ensure_ascii=False)",
        "        f.write('\\n')",
        "print(f\"\u5df2\u5408\u5e76 {len(jsonl_files)} \u4e2a\u6587\u4ef6\uff0c\u603b\u5171 {len(all_data)} \u6761\u6570\u636e\u3002\")"
      ]
    }
  ],
  "metadata": {
    "kernelspec": {
      "display_name": "Pytorch_cpu",
      "language": "python",
      "name": "python3"
    },
    "language_info": {
      "codemirror_mode": {
        "name": "ipython",
        "version": 3
      },
      "file_extension": ".py",
      "mimetype": "text/x-python",
      "name": "python",
      "nbconvert_exporter": "python",
      "pygments_lexer": "ipython3",
      "version": "3.12.3"
    }
  },
  "nbformat": 4,
  "nbformat_minor": 2
}